{
 "cells": [
  {
   "cell_type": "markdown",
   "metadata": {},
   "source": [
    "Something is wrong with global snow production, and you've been selected to take a look. The Elves have even given you a map; on it, they've used stars to mark the top fifty locations that are likely to be having problems.\n",
    "\n",
    "You've been doing this long enough to know that to restore snow operations, you need to check all fifty stars by December 25th.\n",
    "\n",
    "Collect stars by solving puzzles. Two puzzles will be made available on each day in the Advent calendar; the second puzzle is unlocked when you complete the first. Each puzzle grants one star. Good luck!\n",
    "\n",
    "You try to ask why they can't just use a weather machine (\"not powerful enough\") and where they're even sending you (\"the sky\") and why your map looks mostly blank (\"you sure ask a lot of questions\") and hang on did you just say the sky (\"of course, where do you think snow comes from\") when you realize that the Elves are already loading you into a trebuchet (\"please hold still, we need to strap you in\").\n",
    "\n",
    "As they're making the final adjustments, they discover that their calibration document (your puzzle input) has been amended by a very young Elf who was apparently just excited to show off her art skills. Consequently, the Elves are having trouble reading the values on the document.\n",
    "\n",
    "The newly-improved calibration document consists of lines of text; each line originally contained a specific calibration value that the Elves now need to recover. On each line, the calibration value can be found by combining the first digit and the last digit (in that order) to form a single two-digit number.\n",
    "\n",
    "For example:\n",
    "\n",
    "- 1abc2\n",
    "- pqr3stu8vwx\n",
    "- a1b2c3d4e5f\n",
    "- treb7uchet\n",
    "\n",
    "In this example, the calibration values of these four lines are 12, 38, 15, and 77. Adding these together produces 142.\n",
    "\n",
    "Consider your entire calibration document. What is the sum of all of the calibration values?"
   ]
  },
  {
   "cell_type": "code",
   "execution_count": 8,
   "metadata": {},
   "outputs": [
    {
     "name": "stdout",
     "output_type": "stream",
     "text": [
      "54632\n"
     ]
    }
   ],
   "source": [
    "import re\n",
    "sum = 0\n",
    "with open('1.txt', 'r') as file:\n",
    "    for line in file.readlines():\n",
    "        result = re.sub('[a-zA-Z]', '', line.rstrip())\n",
    "        sum += int(f\"{result[0]}{result[-1]}\")\n",
    "print(sum)"
   ]
  },
  {
   "cell_type": "code",
   "execution_count": null,
   "metadata": {},
   "outputs": [],
   "source": [
    "import pandas as pd\n",
    "\n",
    "inputs = []\n",
    "\n",
    "with open('1.txt', 'r') as file:\n",
    "    for line in file.readlines():\n",
    "        result = line.rstrip()\n",
    "        inputs.append(result)\n",
    "\n",
    "# Create a dataframe\n",
    "df_combined = pd.DataFrame([inputs, final1, final2, []]).T\n",
    "df_combined.columns = ['Input', 'Wrong', 'Correct', \"Equal\"]\n",
    "\n",
    "# Apply the logic to update the 'Equal' column\n",
    "df_combined['Equal'] = df_combined.apply(lambda row: True if row['Wrong'] == row['Correct'] else False, axis=1)\n",
    "\n",
    "# Apply the logic to update the 'Equal' column\n",
    "wrong_list = list(df_combined[df_combined['Equal'] == False]['Input'])\n"
   ]
  },
  {
   "cell_type": "markdown",
   "metadata": {},
   "source": [
    "Your calculation isn't quite right. It looks like some of the digits are actually spelled out with letters: one, two, three, four, five, six, seven, eight, and nine also count as valid \"digits\".\n",
    "\n",
    "Equipped with this new information, you now need to find the real first and last digit on each line. For example:\n",
    "\n",
    "- two1nine\n",
    "- eightwothree\n",
    "- abcone2threexyz\n",
    "- xtwone3four\n",
    "- 4nineeightseven2\n",
    "- zoneight234\n",
    "- 7pqrstsixteen\n",
    "\n",
    "In this example, the calibration values are 29, 83, 13, 24, 42, 14, and 76. Adding these together produces 281.\n",
    "\n",
    "What is the sum of all of the calibration values?"
   ]
  },
  {
   "cell_type": "code",
   "execution_count": 215,
   "metadata": {},
   "outputs": [
    {
     "name": "stdout",
     "output_type": "stream",
     "text": [
      "54019\n"
     ]
    }
   ],
   "source": [
    "singles = [\"zero\", \"one\", \"two\", \"three\", \"four\", \"five\", \"six\", \"seven\", \"eight\", \"nine\", \"ten\"]\n",
    "inverse_singles = [x[::-1] for x in singles]\n",
    "\n",
    "sum = 0\n",
    "\n",
    "with open('1.txt', 'r') as file:\n",
    "    for line in file.readlines():\n",
    "        result = line.rstrip()\n",
    "\n",
    "        match = re.search('|'.join(map(re.escape, singles)), result)\n",
    "        if match != None:\n",
    "            x = match.span()\n",
    "            if not bool(re.search(r'\\d', result[:x[0]])):\n",
    "                result = result.replace(match.group(), str(singles.index(match.group())))\n",
    "        \n",
    "        inverse_result = result[::-1]\n",
    "        inverse_match = re.search('|'.join(map(re.escape, inverse_singles)), inverse_result)\n",
    "        if inverse_match != None:\n",
    "            inverse_result = inverse_result.replace(inverse_match.group(), str(inverse_singles.index(inverse_match.group())))\n",
    "        \n",
    "        result = inverse_result[::-1]\n",
    "        \n",
    "        result = re.sub('[a-zA-Z]', '', result)\n",
    "        value = int(f\"{result[0]}{result[-1]}\")\n",
    "        sum += value\n",
    "print(sum) "
   ]
  },
  {
   "cell_type": "code",
   "execution_count": 247,
   "metadata": {},
   "outputs": [
    {
     "name": "stdout",
     "output_type": "stream",
     "text": [
      "54019\n"
     ]
    }
   ],
   "source": [
    "singles = [\"zeero\", \"one\", \"two\", \"three\", \"foour\", \"five\", \"six\", \"seeveen\", \"eight\", \"nine\"]\n",
    "sum = 0\n",
    "with open('1.txt', 'r') as file:\n",
    "    for line in file.readlines():\n",
    "        line = line.rstrip().replace('t', 'tt').replace('e', 'ee').replace('o', 'oo')\n",
    "        for single in singles:\n",
    "            line = line.replace(single, str(singles.index(single)))\n",
    "        result = re.sub('[a-zA-Z]', '', line)\n",
    "        sum += int(f\"{result[0]}{result[-1]}\")\n",
    "print(sum)  "
   ]
  }
 ],
 "metadata": {
  "kernelspec": {
   "display_name": "Python 3",
   "language": "python",
   "name": "python3"
  },
  "language_info": {
   "codemirror_mode": {
    "name": "ipython",
    "version": 3
   },
   "file_extension": ".py",
   "mimetype": "text/x-python",
   "name": "python",
   "nbconvert_exporter": "python",
   "pygments_lexer": "ipython3",
   "version": "3.12.0"
  }
 },
 "nbformat": 4,
 "nbformat_minor": 2
}
