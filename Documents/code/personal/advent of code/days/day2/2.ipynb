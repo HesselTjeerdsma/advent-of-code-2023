{
 "cells": [
  {
   "cell_type": "markdown",
   "metadata": {},
   "source": [
    "You're launched high into the atmosphere! The apex of your trajectory just barely reaches the surface of a large island floating in the sky. You gently land in a fluffy pile of leaves. It's quite cold, but you don't see much snow. An Elf runs over to greet you.\n",
    "\n",
    "The Elf explains that you've arrived at Snow Island and apologizes for the lack of snow. He'll be happy to explain the situation, but it's a bit of a walk, so you have some time. They don't get many visitors up here; would you like to play a game in the meantime?\n",
    "\n",
    "As you walk, the Elf shows you a small bag and some cubes which are either red, green, or blue. Each time you play this game, he will hide a secret number of cubes of each color in the bag, and your goal is to figure out information about the number of cubes.\n",
    "\n",
    "To get information, once a bag has been loaded with cubes, the Elf will reach into the bag, grab a handful of random cubes, show them to you, and then put them back in the bag. He'll do this a few times per game.\n",
    "\n",
    "You play several games and record the information from each game (your puzzle input). Each game is listed with its ID number (like the 11 in Game 11: ...) followed by a semicolon-separated list of subsets of cubes that were revealed from the bag (like 3 red, 5 green, 4 blue).\n",
    "\n",
    "For example, the record of a few games might look like this:\n",
    "\n",
    "- Game 1: 3 blue, 4 red; 1 red, 2 green, 6 blue; 2 green\n",
    "- Game 2: 1 blue, 2 green; 3 green, 4 blue, 1 red; 1 green, 1 blue\n",
    "- Game 3: 8 green, 6 blue, 20 red; 5 blue, 4 red, 13 green; 5 green, 1 red\n",
    "- Game 4: 1 green, 3 red, 6 blue; 3 green, 6 red; 3 green, 15 blue, 14 red\n",
    "- Game 5: 6 red, 1 blue, 3 green; 2 blue, 1 red, 2 green\n",
    "\n",
    "In game 1, three sets of cubes are revealed from the bag (and then put back again).\n",
    "The first set is 3 blue cubes and 4 red cubes; the second set is 1 red cube, 2 green cubes, and 6 blue cubes; the third set is only 2 green cubes.\n",
    "\n",
    "The Elf would first like to know which games would have been possible if the bag contained only 12 red cubes, 13 green cubes, and 14 blue cubes?\n",
    "\n",
    "In the example above, games 1, 2, and 5 would have been possible if the bag had been loaded with that configuration. However, game 3 would have been impossible because at one point the Elf showed you 20 red cubes at once; similarly, game 4 would also have been impossible because the Elf showed you 15 blue cubes at once. If you add up the IDs of the games that would have been possible, you get 8.\n",
    "\n",
    "Determine which games would have been possible if the bag had been loaded with only 12 red cubes, 13 green cubes, and 14 blue cubes. What is the sum of the IDs of those games?"
   ]
  },
  {
   "cell_type": "code",
   "execution_count": 20,
   "metadata": {},
   "outputs": [
    {
     "name": "stdout",
     "output_type": "stream",
     "text": [
      "2076\n"
     ]
    },
    {
     "data": {
      "text/plain": [
       "70950"
      ]
     },
     "execution_count": 20,
     "metadata": {},
     "output_type": "execute_result"
    }
   ],
   "source": [
    "import re\n",
    "from math import prod\n",
    "imp = set()\n",
    "total_cube = 0\n",
    "start = [12,13,14]\n",
    "\n",
    "def line_parser(line):\n",
    "    rgb = [0,0,0]\n",
    "    line = (line.replace(\" \", \"\").split(':')[1]).split(';')\n",
    "    for game in line:\n",
    "        game_iters = game.split(',')\n",
    "        for iter in game_iters:\n",
    "            result = int(re.sub('[a-zA-Z]', '', iter))\n",
    "            if 'red' in iter:\n",
    "                rgb[0] = result if result > rgb[0] else rgb[0]\n",
    "            elif 'green' in iter:\n",
    "                rgb[1] = result if result > rgb[1] else rgb[1]\n",
    "            elif 'blue' in iter:\n",
    "                rgb[2] = result if result > rgb[2] else rgb[2]\n",
    "    return rgb\n",
    "\n",
    "\n",
    "with open('2.txt', 'r') as file:\n",
    "    for idx, line in enumerate(file.readlines()):\n",
    "        count = line_parser(line.rstrip())\n",
    "\n",
    "        # part 1 solution\n",
    "        for item in zip(count, start):\n",
    "            if item[0] > item[1]:\n",
    "                imp.add(idx+1)\n",
    "\n",
    "        # part 2 solution\n",
    "        total_cube += prod(count)\n",
    "\n",
    "# well, this works but it's not very elegant\n",
    "sum(set(range(1,idx+2)) - imp)\n",
    "total_cube "
   ]
  }
 ],
 "metadata": {
  "kernelspec": {
   "display_name": "advent",
   "language": "python",
   "name": "python3"
  },
  "language_info": {
   "codemirror_mode": {
    "name": "ipython",
    "version": 3
   },
   "file_extension": ".py",
   "mimetype": "text/x-python",
   "name": "python",
   "nbconvert_exporter": "python",
   "pygments_lexer": "ipython3",
   "version": "3.12.0"
  }
 },
 "nbformat": 4,
 "nbformat_minor": 2
}
